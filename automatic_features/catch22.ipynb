{
 "cells": [
  {
   "cell_type": "code",
   "execution_count": 1,
   "id": "af59e183-b371-4a26-86bb-225d154dbad8",
   "metadata": {},
   "outputs": [],
   "source": [
    "from sktime.datasets import load_from_tsfile_to_dataframe\n",
    "import sktime\n",
    "import pandas as pd\n",
    "import numpy as np\n",
    "import logging\n",
    "import os"
   ]
  },
  {
   "cell_type": "code",
   "execution_count": 2,
   "id": "23aca02f-5571-4cbe-b141-f5cc16d0b4b2",
   "metadata": {},
   "outputs": [],
   "source": [
    "logging.basicConfig(level=logging.INFO)\n",
    "logger = logging.getLogger(__name__)"
   ]
  },
  {
   "cell_type": "code",
   "execution_count": 3,
   "id": "ea85111a-08ae-4079-b383-4b1174bc6ced",
   "metadata": {},
   "outputs": [],
   "source": [
    "FILE_NAME_X = '{}_{}_X'\n",
    "FILE_NAME_Y = '{}_{}_Y'\n",
    "FILE_NAME_PID = '{}_{}_pid'"
   ]
  },
  {
   "cell_type": "code",
   "execution_count": 4,
   "id": "3c95b614-d439-407d-aa66-5646deea8937",
   "metadata": {},
   "outputs": [],
   "source": [
    "def read_dataset(path, data_type):\n",
    "    x_train, y_train = load_from_tsfile_to_dataframe(os.path.join(path,\n",
    "                                                                  FILE_NAME_X.format(\"TRAIN\", data_type) + \".ts\"))\n",
    "\n",
    "    logger.info(\"Training data shape {} {} {}\".format(x_train.shape, len(x_train.iloc[0, 0]), y_train.shape))\n",
    "    x_test, y_test = load_from_tsfile_to_dataframe(os.path.join(path,\n",
    "                                                                FILE_NAME_X.format(\"TEST\", data_type) + \".ts\"))\n",
    "    logger.info(\"Testing data shape: {} {}\".format(x_test.shape, y_test.shape))\n",
    "\n",
    "    logger.info(\"Testing data shape: {} {}\".format(x_test.shape, y_test.shape))\n",
    "    test_pid = np.load(os.path.join(path, FILE_NAME_PID.format(\"TEST\", data_type) + \".npy\"), allow_pickle=True)\n",
    "    train_pid = np.load(os.path.join(path, FILE_NAME_PID.format(\"TRAIN\", data_type) + \".npy\"), allow_pickle=True)\n",
    "\n",
    "    try:\n",
    "        x_val, y_val = load_from_tsfile_to_dataframe(os.path.join(path,\n",
    "                                                                  FILE_NAME_X.format(\"VAL\", data_type) + \".ts\"))\n",
    "        logger.info(\"Validation data shape: {} {}\".format(x_val.shape, y_val.shape))\n",
    "    except FileNotFoundError:\n",
    "        logger.info(\"Validation data is empty:\")\n",
    "        x_val, y_val = None, None\n",
    "\n",
    "    return x_train, y_train, x_test, y_test, x_val, y_val, train_pid, test_pid\n"
   ]
  },
  {
   "cell_type": "code",
   "execution_count": 5,
   "id": "09f23e05-4de2-48bd-a0e7-3b34be49d8ef",
   "metadata": {},
   "outputs": [],
   "source": [
    "SEED_VALUES=[103007,1899797,191099]\n"
   ]
  },
  {
   "cell_type": "code",
   "execution_count": 7,
   "id": "44283a11-37d4-4a6d-80cf-d781c9515dd2",
   "metadata": {},
   "outputs": [],
   "source": [
    "from sktime.transformations.panel import catch22\n",
    "import time"
   ]
  },
  {
   "cell_type": "code",
   "execution_count": 8,
   "id": "ba5f1b2f-64a9-46ff-9e50-265870e6d3e6",
   "metadata": {},
   "outputs": [
    {
     "name": "stderr",
     "output_type": "stream",
     "text": [
      "INFO:__main__:Training data shape (1773, 45) 161 (1773,)\n",
      "INFO:__main__:Testing data shape: (760, 45) (760,)\n",
      "INFO:__main__:Testing data shape: (760, 45) (760,)\n",
      "INFO:__main__:Validation data is empty:\n"
     ]
    }
   ],
   "source": [
    "sv = 191099\n",
    "data_type = \"default\"\n",
    "path = \"/home/ashish/Results/Datasets/Shimmer/Rowing/TrainTestDataSktime/{}/MulticlassSplit/\"\n",
    "output_path = \"/home/ashish/Results/Datasets/Shimmer/Rowing/Catch22/{}/\"\n",
    "x_train, y_train, x_test, y_test, x_val, y_val, train_pid, test_pid = read_dataset(path.format(sv), data_type)\n",
    "catch = catch22.Catch22()\n",
    "catch.fit(x_train)\n",
    "ts = time.time()\n",
    "x_training_transform = catch.transform(x_train)\n",
    "x_test_transform = catch.transform(x_test)\n",
    "te = time.time()\n",
    "\n",
    "# x_training_transform.to_csv(os.path.join(output_path.format(sv), \"train_{}.csv\".format(data_type)), index=False)\n",
    "# x_test_transform.to_csv(os.path.join(output_path.format(sv), \"test_{}.csv\".format(data_type)), index=False)"
   ]
  },
  {
   "cell_type": "code",
   "execution_count": 9,
   "id": "9c259eb3-190d-44f8-8a79-fb6735332b40",
   "metadata": {},
   "outputs": [
    {
     "data": {
      "text/plain": [
       "338.3541781902313"
      ]
     },
     "execution_count": 9,
     "metadata": {},
     "output_type": "execute_result"
    }
   ],
   "source": [
    "te-ts"
   ]
  },
  {
   "cell_type": "code",
   "execution_count": 10,
   "id": "6680d321-d5b2-4296-acd2-ff1b585b1ea5",
   "metadata": {},
   "outputs": [
    {
     "name": "stderr",
     "output_type": "stream",
     "text": [
      "INFO:__main__:Training data shape (1413, 45) 161 (1413,)\n",
      "INFO:__main__:Testing data shape: (608, 45) (608,)\n",
      "INFO:__main__:Testing data shape: (608, 45) (608,)\n",
      "INFO:__main__:Validation data is empty:\n"
     ]
    }
   ],
   "source": [
    "sv = 191099\n",
    "data_type = \"default\"\n",
    "path = \"/home/ashish/Results/Datasets/Shimmer/MP/TrainTestDataSktime/{}/MulticlassSplit/\"\n",
    "output_path = \"/home/ashish/Results/Datasets/Shimmer/MP/Catch22/{}/\"\n",
    "x_train, y_train, x_test, y_test, x_val, y_val, train_pid, test_pid = read_dataset(path.format(sv), data_type)\n",
    "catch = catch22.Catch22()\n",
    "catch.fit(x_train)\n",
    "ts = time.time()\n",
    "x_training_transform = catch.transform(x_train)\n",
    "x_test_transform = catch.transform(x_test)\n",
    "te = time.time()"
   ]
  },
  {
   "cell_type": "code",
   "execution_count": 12,
   "id": "032218f6-9f8f-414a-8fd1-045dcbd64a90",
   "metadata": {},
   "outputs": [
    {
     "data": {
      "text/plain": [
       "573.4641771316528"
      ]
     },
     "execution_count": 12,
     "metadata": {},
     "output_type": "execute_result"
    }
   ],
   "source": [
    "te-ts"
   ]
  },
  {
   "cell_type": "code",
   "execution_count": 8,
   "id": "fa22493c-00a5-4f70-809d-859110d40692",
   "metadata": {},
   "outputs": [
    {
     "name": "stdout",
     "output_type": "stream",
     "text": [
      "/home/ashish/Results/Datasets/Shimmer/MP/TrainTestDataSktime/{}/MulticlassSplit/\n"
     ]
    },
    {
     "name": "stderr",
     "output_type": "stream",
     "text": [
      "INFO:__main__:Training data shape (1426, 45) 161 (1426,)\n",
      "INFO:__main__:Testing data shape: (595, 45) (595,)\n",
      "INFO:__main__:Testing data shape: (595, 45) (595,)\n",
      "INFO:__main__:Validation data is empty:\n"
     ]
    },
    {
     "name": "stdout",
     "output_type": "stream",
     "text": [
      "/home/ashish/Results/Datasets/Shimmer/MP/TrainTestDataSktime/{}/MulticlassSplit/\n"
     ]
    },
    {
     "name": "stderr",
     "output_type": "stream",
     "text": [
      "INFO:__main__:Training data shape (1455, 45) 161 (1455,)\n",
      "INFO:__main__:Testing data shape: (566, 45) (566,)\n",
      "INFO:__main__:Testing data shape: (566, 45) (566,)\n",
      "INFO:__main__:Validation data is empty:\n"
     ]
    },
    {
     "name": "stdout",
     "output_type": "stream",
     "text": [
      "/home/ashish/Results/Datasets/Shimmer/MP/TrainTestDataSktime/{}/MulticlassSplit/\n"
     ]
    },
    {
     "name": "stderr",
     "output_type": "stream",
     "text": [
      "INFO:__main__:Training data shape (1413, 45) 161 (1413,)\n",
      "INFO:__main__:Testing data shape: (608, 45) (608,)\n",
      "INFO:__main__:Testing data shape: (608, 45) (608,)\n",
      "INFO:__main__:Validation data is empty:\n"
     ]
    }
   ],
   "source": [
    "data_type = \"default\"\n",
    "path = \"/home/ashish/Results/Datasets/Shimmer/MP/TrainTestDataSktime/{}/MulticlassSplit/\"\n",
    "output_path = \"/home/ashish/Results/Datasets/Shimmer/MP/Catch22/{}/\"\n",
    "for sv in [103007,1899797,191099]:\n",
    "    print(path)\n",
    "    x_train, y_train, x_test, y_test, x_val, y_val, train_pid, test_pid = read_dataset(path.format(sv), data_type)\n",
    "    catch = catch22.Catch22()\n",
    "    catch.fit(x_train)\n",
    "    x_training_transform = catch.transform(x_train)\n",
    "    x_test_transform = catch.transform(x_test)\n",
    "    x_training_transform.to_csv(os.path.join(output_path.format(sv), \"x_train_{}.csv\".format(data_type)), index=False)\n",
    "    x_test_transform.to_csv(os.path.join(output_path.format(sv), \"x_test_{}.csv\".format(data_type)), index=False)\n",
    "    \n",
    "    np.save(os.path.join(output_path.format(sv), \"y_test_{}.npy\".format(data_type)), y_test)\n",
    "    np.save(os.path.join(output_path.format(sv), \"y_train_{}.npy\".format(data_type)), y_train)"
   ]
  }
 ],
 "metadata": {
  "kernelspec": {
   "display_name": "Python 3",
   "language": "python",
   "name": "python3"
  },
  "language_info": {
   "codemirror_mode": {
    "name": "ipython",
    "version": 3
   },
   "file_extension": ".py",
   "mimetype": "text/x-python",
   "name": "python",
   "nbconvert_exporter": "python",
   "pygments_lexer": "ipython3",
   "version": "3.7.9"
  }
 },
 "nbformat": 4,
 "nbformat_minor": 5
}
