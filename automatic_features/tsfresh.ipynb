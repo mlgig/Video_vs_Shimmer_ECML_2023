{
 "cells": [
  {
   "cell_type": "code",
   "execution_count": 2,
   "id": "473297e3-0389-4594-b59c-34ddec3704aa",
   "metadata": {},
   "outputs": [],
   "source": [
    "import pandas as pd\n",
    "import numpy as np\n",
    "import logging\n",
    "import os"
   ]
  },
  {
   "cell_type": "code",
   "execution_count": 7,
   "id": "bd0a297f-b1be-4d9c-bcaa-6aed36075dae",
   "metadata": {},
   "outputs": [],
   "source": [
    "from tsfresh.examples.robot_execution_failures import download_robot_execution_failures, \\\n",
    "    load_robot_execution_failures\n",
    "from tsfresh import extract_relevant_features\n"
   ]
  },
  {
   "cell_type": "code",
   "execution_count": 8,
   "id": "192f9167-f5d4-4b90-af46-2c7f8b7140d1",
   "metadata": {},
   "outputs": [],
   "source": [
    "from tsfresh import select_features\n",
    "from tsfresh.utilities.dataframe_functions import impute"
   ]
  },
  {
   "cell_type": "code",
   "execution_count": 9,
   "id": "53a69a2e-29b0-479b-9eef-124dc7f52792",
   "metadata": {},
   "outputs": [],
   "source": [
    "logging.basicConfig(level=logging.INFO)\n",
    "logger = logging.getLogger(__name__)"
   ]
  },
  {
   "cell_type": "code",
   "execution_count": 10,
   "id": "3992f543-6002-4274-9f81-4b6384d48ebf",
   "metadata": {},
   "outputs": [],
   "source": [
    "FILE_NAME_X = '{}_{}_X.npy'\n",
    "FILE_NAME_Y = '{}_{}_Y.npy'\n",
    "FILE_NAME_PID = '{}_{}_pid.npy'"
   ]
  },
  {
   "cell_type": "code",
   "execution_count": 11,
   "id": "a3e47f86-6a0e-4382-9efc-798681f5e00e",
   "metadata": {},
   "outputs": [],
   "source": [
    "def get_id_col(df):\n",
    "    id_col = []\n",
    "    for i in range(1, df.shape[0]+1):\n",
    "        id_col += [i]* df.shape[1]\n",
    "    return id_col"
   ]
  },
  {
   "cell_type": "code",
   "execution_count": 12,
   "id": "df9d44a6-158c-4718-b6df-02a6c04d1f75",
   "metadata": {},
   "outputs": [],
   "source": [
    "def read_dataset(data_path, data_type):\n",
    "    x_train = np.load(os.path.join(data_path, FILE_NAME_X.format(\"TRAIN\", data_type)), allow_pickle=True)\n",
    "    y_train = np.load(os.path.join(data_path, FILE_NAME_Y.format(\"TRAIN\", data_type)), allow_pickle=True)\n",
    "    x_test = np.load(os.path.join(data_path, FILE_NAME_X.format(\"TEST\", data_type)), allow_pickle=True)\n",
    "    y_test = np.load(os.path.join(data_path, FILE_NAME_Y.format(\"TEST\", data_type)), allow_pickle=True)\n",
    "    logger.info(\"Data shape is: \")\n",
    "    logger.info(\"{} {} {} {}\".format(x_train.shape, y_train.shape, x_test.shape, y_test.shape))\n",
    "    return x_train, y_train, x_test, y_test"
   ]
  },
  {
   "cell_type": "code",
   "execution_count": null,
   "id": "141313e8-5e57-4c4a-88af-c63209893650",
   "metadata": {},
   "outputs": [],
   "source": [
    "np.save(os.path.join(output_path.format(sv), \"y_test_{}.npy\".format(data_type)), y_test)\n"
   ]
  },
  {
   "cell_type": "code",
   "execution_count": 21,
   "id": "235f4bfd-5142-438b-9253-4fbbf57855c4",
   "metadata": {},
   "outputs": [
    {
     "name": "stderr",
     "output_type": "stream",
     "text": [
      "INFO:__main__:Data shape is: \n",
      "INFO:__main__:(1426, 161, 27) (1426,) (595, 161, 27) (595,)\n"
     ]
    },
    {
     "name": "stdout",
     "output_type": "stream",
     "text": [
      "(2021, 161, 27)\n",
      "(325381, 27)\n",
      "(325381, 28)\n"
     ]
    }
   ],
   "source": [
    "# data_type = \"lwrwbk\"\n",
    "# path = \"/home/ashish/Results/Datasets/Shimmer/MP/TrainTestData/{}/MulticlassSplit/\"\n",
    "# output_path = \"/home/ashish/Results/Datasets/Shimmer/MP/tsfresh/{}/\"\n",
    "# sv = 103007\n",
    "# x_train, y_train, x_test, y_test = read_dataset(path.format(sv), data_type)\n",
    "# train_shape = x_train.shape[0]\n",
    "# test_shape = x_test.shape[0]\n",
    "\n",
    "# full_data = np.vstack((x_train, x_test))\n",
    "# print(full_data.shape)\n",
    "# full_data_long = pd.DataFrame(full_data.reshape(full_data.shape[0]*full_data.shape[1], full_data.shape[2]))\n",
    "# print(full_data_long.shape)\n",
    "# full_data_long[\"id\"] = get_id_col(full_data)\n",
    "\n",
    "# print(full_data_long.shape)\n",
    "\n",
    "    "
   ]
  },
  {
   "cell_type": "code",
   "execution_count": null,
   "id": "9e4fdae5-9ceb-4096-a7f8-91b884f682ea",
   "metadata": {},
   "outputs": [],
   "source": [
    "# sv = 103007\n",
    "data_type = \"default\"\n",
    "path = \"/home/ashish/Results/Datasets/Shimmer/MP/TrainTestData/{}/MulticlassSplit/\"\n",
    "output_path = \"/home/ashish/Results/Datasets/Shimmer/MP/tsfresh/{}/\"\n",
    "\n",
    "for sv in [103007,1899797,191099]:\n",
    "    x_train, y_train, x_test, y_test = read_dataset(path.format(sv), data_type)\n",
    "    train_shape = x_train.shape[0]\n",
    "    test_shape = x_test.shape[0]\n",
    "    \n",
    "    full_data = np.vstack((x_train, x_test))\n",
    "    y = np.concatenate((y_train, y_test))\n",
    "    full_data_long = pd.DataFrame(full_data.reshape(full_data.shape[0]*full_data.shape[1], full_data.shape[2]))\n",
    "        \n",
    "    full_data_long[\"id\"] = get_id_col(full_data)\n",
    "    \n",
    "    y = pd.Series(y)\n",
    "    y.index = np.arange(1, y.shape[0]+1)\n",
    "\n",
    "    \n",
    "    full_data_transform = extract_relevant_features(full_data_long, y, column_id='id')\n",
    "    \n",
    "    x_training_transform = full_data_transform.iloc[0:train_shape, :]\n",
    "    x_test_transform = full_data_transform.iloc[train_shape:, :]\n",
    "\n",
    "    x_training_transform.to_csv(os.path.join(output_path.format(sv), \"x_train_{}.csv\".format(data_type)), index=False)\n",
    "    x_test_transform.to_csv(os.path.join(output_path.format(sv), \"x_test_{}.csv\".format(data_type)), index=False)\n",
    "    y_train.to_csv(os.path.join(output_path.format(sv), \"y_train_{}.csv\".format(data_type)), index=False)\n",
    "    y_test.to_csv(os.path.join(output_path.format(sv), \"y_test_{}.csv\".format(data_type)), index=False)\n",
    "    \n",
    "np.save(os.path.join(output_path.format(sv), \"y_test_{}.npy\".format(data_type)), y_test)\n",
    "np.save(os.path.join(output_path.format(sv), \"y_train_{}.npy\".format(data_type)), y_train)\n",
    "\n",
    "    "
   ]
  },
  {
   "cell_type": "code",
   "execution_count": null,
   "id": "1914d480-222b-42cf-b63e-a3d348d71565",
   "metadata": {},
   "outputs": [
    {
     "name": "stderr",
     "output_type": "stream",
     "text": [
      "INFO:__main__:Data shape is: \n",
      "INFO:__main__:(1426, 161, 27) (1426,) (595, 161, 27) (595,)\n",
      "Feature Extraction: 100%|███████████████████████████████████████████████████████████████████████████████████████████████████████████████████████████████████████████████████| 20/20 [13:04<00:00, 39.24s/it]\n",
      "Feature Extraction: 100%|███████████████████████████████████████████████████████████████████████████████████████████████████████████████████████████████████████████████████| 20/20 [05:26<00:00, 16.33s/it]\n",
      "INFO:__main__:Data shape is: \n",
      "INFO:__main__:(1455, 161, 27) (1455,) (566, 161, 27) (566,)\n",
      "Feature Extraction:  30%|████████████████████████████████████████████▍                                                                                                       | 6/20 [05:22<10:53, 46.65s/it]"
     ]
    }
   ],
   "source": [
    "# # sv = 103007\n",
    "# data_type = \"lwrwbk\"\n",
    "# path = \"/home/ashish/Results/Datasets/Shimmer/MP/TrainTestData/{}/MulticlassSplit/\"\n",
    "# output_path = \"/home/ashish/Results/Datasets/Shimmer/MP/tsfresh/{}/\"\n",
    "\n",
    "# for sv in [103007,1899797,191099]:\n",
    "#     x_train, y_train, x_test, y_test = read_dataset(path.format(sv), data_type)\n",
    "    \n",
    "#     x_train_long = pd.DataFrame(x_train.reshape(x_train.shape[0]*x_train.shape[1], x_train.shape[2]))\n",
    "#     x_test_long = pd.DataFrame(x_test.reshape(x_test.shape[0]*x_test.shape[1], x_test.shape[2]))\n",
    "    \n",
    "    \n",
    "#     train_shape = x_train.shape[0]\n",
    "#     test_shape = x_test.shape[0]\n",
    "    \n",
    "#     full_df = pd.concat([x_train, x_test], axis=0)\n",
    "    \n",
    "    \n",
    "    \n",
    "#     x_train_long[\"id\"] = get_id_col(x_train)\n",
    "#     x_test_long[\"id\"] = get_id_col(x_test)\n",
    "    \n",
    "#     y_train = pd.Series(y_train)\n",
    "#     y_test = pd.Series(y_test)\n",
    "#     y_train.index = np.arange(1, y_train.shape[0]+1)\n",
    "#     y_test.index = np.arange(1, y_test.shape[0]+1)\n",
    "\n",
    "    \n",
    "#     x_training_transform = extract_relevant_features(x_train_long, y_train, column_id='id')\n",
    "#     x_test_transform = extract_relevant_features(x_test_long, y_test, column_id='id')\n",
    "\n",
    "    \n",
    "#     x_training_transform.to_csv(os.path.join(output_path.format(sv), \"x_train_{}.csv\".format(data_type)), index=False)\n",
    "#     x_test_transform.to_csv(os.path.join(output_path.format(sv), \"x_test_{}.csv\".format(data_type)), index=False)\n",
    "#     y_train.to_csv(os.path.join(output_path.format(sv), \"y_train_{}.csv\".format(data_type)), index=False)\n",
    "#     y_test.to_csv(os.path.join(output_path.format(sv), \"y_test_{}.csv\".format(data_type)), index=False)\n",
    "    \n",
    "#     # np.save(os.path.join(output_path.format(sv), \"y_test_{}.npy\".format(data_type)), y_test)\n",
    "#     # np.save(os.path.join(output_path.format(sv), \"y_train_{}.csv\".format(data_type)), y_train)\n",
    "\n",
    "    "
   ]
  },
  {
   "cell_type": "code",
   "execution_count": null,
   "id": "30587015-80b0-4594-9863-c99152112289",
   "metadata": {},
   "outputs": [],
   "source": []
  }
 ],
 "metadata": {
  "kernelspec": {
   "display_name": "Python 3",
   "language": "python",
   "name": "python3"
  },
  "language_info": {
   "codemirror_mode": {
    "name": "ipython",
    "version": 3
   },
   "file_extension": ".py",
   "mimetype": "text/x-python",
   "name": "python",
   "nbconvert_exporter": "python",
   "pygments_lexer": "ipython3",
   "version": "3.7.9"
  }
 },
 "nbformat": 4,
 "nbformat_minor": 5
}
